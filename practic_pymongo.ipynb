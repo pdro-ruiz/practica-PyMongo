{
 "cells": [
  {
   "cell_type": "markdown",
   "metadata": {},
   "source": [
    "# Práctica de PyMongo\n",
    "\n",
    "En esta práctica utilizaremos la misma colección que hemos utilizado en los ejercicios resueltos:\n",
    "\n",
    "Documento de muestra de la colección 'restaurants':\n",
    "\n",
    "```json{\n",
    "  \"address\": {\n",
    "     \"building\": \"1007\",\n",
    "     \"coord\": [ -73.856077, 40.848447 ],\n",
    "     \"street\": \"Morris Park Ave\",\n",
    "     \"zipcode\": \"10462\"\n",
    "  },\n",
    "  \"borough\": \"Bronx\",\n",
    "  \"cuisine\": \"Bakery\",\n",
    "  \"grades\": [\n",
    "     { \"date\": { \"$date\": 1393804800000 }, \"grade\": \"A\", \"score\": 2 },\n",
    "     { \"date\": { \"$date\": 1378857600000 }, \"grade\": \"A\", \"score\": 6 },\n",
    "     { \"date\": { \"$date\": 1358985600000 }, \"grade\": \"A\", \"score\": 10 },\n",
    "     { \"date\": { \"$date\": 1322006400000 }, \"grade\": \"A\", \"score\": 9 },\n",
    "     { \"date\": { \"$date\": 1299715200000 }, \"grade\": \"B\", \"score\": 14 }\n",
    "  ],\n",
    "  \"name\": \"Morris Park Bake Shop\",\n",
    "  \"restaurant_id\": \"30075445\"}\n",
    "```\n",
    "\n",
    "El estudiante debe crear un notebook de Jupyter que haga lo siguiente:\n",
    "\n",
    "- **Conexión a la base de datos**: Nos conectamos, mediante pymongo, a la base de datos y a la colección que creamos para los ejercicios resueltos.\n",
    "- **Consultas**: Realizamos las mismas consultas que ya hicimos en los ejercicios de MongoDB.\n",
    "- **Visualización sencilla de los datos**: Generamos gráficos con matplotlib que muestren la distribución de valores de \"borough\" y \"cuisine\". Los posibles valores de cada variable y su número de registros asociados deben generarse mediante una consulta en pymongo.\n",
    "- **Inserción de datos**: Insertamos todos los nuevos restaurantes almacenados en \"new_restaurants.json\".\n",
    "- **Añadir nuevos campos a los documentos**: Creamos un valor raíz en cada documento con el nombre \"avg_score\", que contiene el valor medio de \"puntuación\" de ese restaurante. Si no se han encontrado valores para realizar este cálculo, ponemos en su lugar un valor Nulo. Se puede hacer de dos manera el cálculo, o bien con una query de Mongo o bien haciendo cada cálculo con Python en insertando los resultados.\n",
    "- **(Extra y opcional) Visualización de datos geográficos**: Generamos un archivo png de un mapa que muestra puntos coloreados con las coordenadas de cada restaurante. Debe utilizar un color diferente por tipo de \"cocina\". Puede utilizar algo como esto para crear el mapa."
   ]
  },
  {
   "cell_type": "code",
   "execution_count": 4,
   "metadata": {},
   "outputs": [
    {
     "ename": "AttributeError",
     "evalue": "module 'httpcore' has no attribute 'NetworkBackend'",
     "output_type": "error",
     "traceback": [
      "\u001b[0;31m---------------------------------------------------------------------------\u001b[0m",
      "\u001b[0;31mAttributeError\u001b[0m                            Traceback (most recent call last)",
      "Cell \u001b[0;32mIn[4], line 1\u001b[0m\n\u001b[0;32m----> 1\u001b[0m \u001b[38;5;28;01mfrom\u001b[39;00m \u001b[38;5;21;01mpymongo\u001b[39;00m \u001b[38;5;28;01mimport\u001b[39;00m MongoClient\n\u001b[1;32m      3\u001b[0m \u001b[38;5;66;03m# Create a MongoClient object and specify the connection URL\u001b[39;00m\n\u001b[1;32m      4\u001b[0m client \u001b[38;5;241m=\u001b[39m MongoClient(\u001b[38;5;124m\"\u001b[39m\u001b[38;5;124mmongodb://localhost:27017/\u001b[39m\u001b[38;5;124m\"\u001b[39m)\n",
      "File \u001b[0;32m~/anaconda3/lib/python3.11/site-packages/pymongo/__init__.py:93\u001b[0m\n\u001b[1;32m     91\u001b[0m \u001b[38;5;28;01mfrom\u001b[39;00m \u001b[38;5;21;01mpymongo\u001b[39;00m\u001b[38;5;21;01m.\u001b[39;00m\u001b[38;5;21;01mcommon\u001b[39;00m \u001b[38;5;28;01mimport\u001b[39;00m MAX_SUPPORTED_WIRE_VERSION, MIN_SUPPORTED_WIRE_VERSION\n\u001b[1;32m     92\u001b[0m \u001b[38;5;28;01mfrom\u001b[39;00m \u001b[38;5;21;01mpymongo\u001b[39;00m\u001b[38;5;21;01m.\u001b[39;00m\u001b[38;5;21;01mcursor\u001b[39;00m \u001b[38;5;28;01mimport\u001b[39;00m CursorType\n\u001b[0;32m---> 93\u001b[0m \u001b[38;5;28;01mfrom\u001b[39;00m \u001b[38;5;21;01mpymongo\u001b[39;00m\u001b[38;5;21;01m.\u001b[39;00m\u001b[38;5;21;01mmongo_client\u001b[39;00m \u001b[38;5;28;01mimport\u001b[39;00m MongoClient\n\u001b[1;32m     94\u001b[0m \u001b[38;5;28;01mfrom\u001b[39;00m \u001b[38;5;21;01mpymongo\u001b[39;00m\u001b[38;5;21;01m.\u001b[39;00m\u001b[38;5;21;01moperations\u001b[39;00m \u001b[38;5;28;01mimport\u001b[39;00m (\n\u001b[1;32m     95\u001b[0m     DeleteMany,\n\u001b[1;32m     96\u001b[0m     DeleteOne,\n\u001b[0;32m   (...)\u001b[0m\n\u001b[1;32m    101\u001b[0m     UpdateOne,\n\u001b[1;32m    102\u001b[0m )\n\u001b[1;32m    103\u001b[0m \u001b[38;5;28;01mfrom\u001b[39;00m \u001b[38;5;21;01mpymongo\u001b[39;00m\u001b[38;5;21;01m.\u001b[39;00m\u001b[38;5;21;01mread_preferences\u001b[39;00m \u001b[38;5;28;01mimport\u001b[39;00m ReadPreference\n",
      "File \u001b[0;32m~/anaconda3/lib/python3.11/site-packages/pymongo/mongo_client.py:62\u001b[0m\n\u001b[1;32m     60\u001b[0m \u001b[38;5;28;01mfrom\u001b[39;00m \u001b[38;5;21;01mbson\u001b[39;00m\u001b[38;5;21;01m.\u001b[39;00m\u001b[38;5;21;01mson\u001b[39;00m \u001b[38;5;28;01mimport\u001b[39;00m SON\n\u001b[1;32m     61\u001b[0m \u001b[38;5;28;01mfrom\u001b[39;00m \u001b[38;5;21;01mbson\u001b[39;00m\u001b[38;5;21;01m.\u001b[39;00m\u001b[38;5;21;01mtimestamp\u001b[39;00m \u001b[38;5;28;01mimport\u001b[39;00m Timestamp\n\u001b[0;32m---> 62\u001b[0m \u001b[38;5;28;01mfrom\u001b[39;00m \u001b[38;5;21;01mpymongo\u001b[39;00m \u001b[38;5;28;01mimport\u001b[39;00m (\n\u001b[1;32m     63\u001b[0m     _csot,\n\u001b[1;32m     64\u001b[0m     client_session,\n\u001b[1;32m     65\u001b[0m     common,\n\u001b[1;32m     66\u001b[0m     database,\n\u001b[1;32m     67\u001b[0m     helpers,\n\u001b[1;32m     68\u001b[0m     message,\n\u001b[1;32m     69\u001b[0m     periodic_executor,\n\u001b[1;32m     70\u001b[0m     uri_parser,\n\u001b[1;32m     71\u001b[0m )\n\u001b[1;32m     72\u001b[0m \u001b[38;5;28;01mfrom\u001b[39;00m \u001b[38;5;21;01mpymongo\u001b[39;00m\u001b[38;5;21;01m.\u001b[39;00m\u001b[38;5;21;01mchange_stream\u001b[39;00m \u001b[38;5;28;01mimport\u001b[39;00m ChangeStream, ClusterChangeStream\n\u001b[1;32m     73\u001b[0m \u001b[38;5;28;01mfrom\u001b[39;00m \u001b[38;5;21;01mpymongo\u001b[39;00m\u001b[38;5;21;01m.\u001b[39;00m\u001b[38;5;21;01mclient_options\u001b[39;00m \u001b[38;5;28;01mimport\u001b[39;00m ClientOptions\n",
      "File \u001b[0;32m~/anaconda3/lib/python3.11/site-packages/pymongo/uri_parser.py:43\u001b[0m\n\u001b[1;32m     35\u001b[0m \u001b[38;5;28;01mfrom\u001b[39;00m \u001b[38;5;21;01mpymongo\u001b[39;00m\u001b[38;5;21;01m.\u001b[39;00m\u001b[38;5;21;01mcommon\u001b[39;00m \u001b[38;5;28;01mimport\u001b[39;00m (\n\u001b[1;32m     36\u001b[0m     INTERNAL_URI_OPTION_NAME_MAP,\n\u001b[1;32m     37\u001b[0m     SRV_SERVICE_NAME,\n\u001b[0;32m   (...)\u001b[0m\n\u001b[1;32m     40\u001b[0m     get_validated_options,\n\u001b[1;32m     41\u001b[0m )\n\u001b[1;32m     42\u001b[0m \u001b[38;5;28;01mfrom\u001b[39;00m \u001b[38;5;21;01mpymongo\u001b[39;00m\u001b[38;5;21;01m.\u001b[39;00m\u001b[38;5;21;01merrors\u001b[39;00m \u001b[38;5;28;01mimport\u001b[39;00m ConfigurationError, InvalidURI\n\u001b[0;32m---> 43\u001b[0m \u001b[38;5;28;01mfrom\u001b[39;00m \u001b[38;5;21;01mpymongo\u001b[39;00m\u001b[38;5;21;01m.\u001b[39;00m\u001b[38;5;21;01msrv_resolver\u001b[39;00m \u001b[38;5;28;01mimport\u001b[39;00m _HAVE_DNSPYTHON, _SrvResolver\n\u001b[1;32m     44\u001b[0m \u001b[38;5;28;01mfrom\u001b[39;00m \u001b[38;5;21;01mpymongo\u001b[39;00m\u001b[38;5;21;01m.\u001b[39;00m\u001b[38;5;21;01mtypings\u001b[39;00m \u001b[38;5;28;01mimport\u001b[39;00m _Address\n\u001b[1;32m     46\u001b[0m \u001b[38;5;28;01mif\u001b[39;00m TYPE_CHECKING:\n",
      "File \u001b[0;32m~/anaconda3/lib/python3.11/site-packages/pymongo/srv_resolver.py:23\u001b[0m\n\u001b[1;32m     20\u001b[0m \u001b[38;5;28;01mfrom\u001b[39;00m \u001b[38;5;21;01mtyping\u001b[39;00m \u001b[38;5;28;01mimport\u001b[39;00m Any, Optional, Union\n\u001b[1;32m     22\u001b[0m \u001b[38;5;28;01mtry\u001b[39;00m:\n\u001b[0;32m---> 23\u001b[0m     \u001b[38;5;28;01mfrom\u001b[39;00m \u001b[38;5;21;01mdns\u001b[39;00m \u001b[38;5;28;01mimport\u001b[39;00m resolver\n\u001b[1;32m     25\u001b[0m     _HAVE_DNSPYTHON \u001b[38;5;241m=\u001b[39m \u001b[38;5;28;01mTrue\u001b[39;00m\n\u001b[1;32m     26\u001b[0m \u001b[38;5;28;01mexcept\u001b[39;00m \u001b[38;5;167;01mImportError\u001b[39;00m:\n",
      "File \u001b[0;32m~/anaconda3/lib/python3.11/site-packages/dns/resolver.py:30\u001b[0m\n\u001b[1;32m     27\u001b[0m \u001b[38;5;28;01mfrom\u001b[39;00m \u001b[38;5;21;01mtyping\u001b[39;00m \u001b[38;5;28;01mimport\u001b[39;00m Any, Dict, Iterator, List, Optional, Sequence, Tuple, Union\n\u001b[1;32m     28\u001b[0m \u001b[38;5;28;01mfrom\u001b[39;00m \u001b[38;5;21;01murllib\u001b[39;00m\u001b[38;5;21;01m.\u001b[39;00m\u001b[38;5;21;01mparse\u001b[39;00m \u001b[38;5;28;01mimport\u001b[39;00m urlparse\n\u001b[0;32m---> 30\u001b[0m \u001b[38;5;28;01mimport\u001b[39;00m \u001b[38;5;21;01mdns\u001b[39;00m\u001b[38;5;21;01m.\u001b[39;00m\u001b[38;5;21;01m_ddr\u001b[39;00m\n\u001b[1;32m     31\u001b[0m \u001b[38;5;28;01mimport\u001b[39;00m \u001b[38;5;21;01mdns\u001b[39;00m\u001b[38;5;21;01m.\u001b[39;00m\u001b[38;5;21;01medns\u001b[39;00m\n\u001b[1;32m     32\u001b[0m \u001b[38;5;28;01mimport\u001b[39;00m \u001b[38;5;21;01mdns\u001b[39;00m\u001b[38;5;21;01m.\u001b[39;00m\u001b[38;5;21;01mexception\u001b[39;00m\n",
      "File \u001b[0;32m~/anaconda3/lib/python3.11/site-packages/dns/_ddr.py:12\u001b[0m\n\u001b[1;32m     10\u001b[0m \u001b[38;5;28;01mimport\u001b[39;00m \u001b[38;5;21;01mdns\u001b[39;00m\u001b[38;5;21;01m.\u001b[39;00m\u001b[38;5;21;01minet\u001b[39;00m\n\u001b[1;32m     11\u001b[0m \u001b[38;5;28;01mimport\u001b[39;00m \u001b[38;5;21;01mdns\u001b[39;00m\u001b[38;5;21;01m.\u001b[39;00m\u001b[38;5;21;01mname\u001b[39;00m\n\u001b[0;32m---> 12\u001b[0m \u001b[38;5;28;01mimport\u001b[39;00m \u001b[38;5;21;01mdns\u001b[39;00m\u001b[38;5;21;01m.\u001b[39;00m\u001b[38;5;21;01mnameserver\u001b[39;00m\n\u001b[1;32m     13\u001b[0m \u001b[38;5;28;01mimport\u001b[39;00m \u001b[38;5;21;01mdns\u001b[39;00m\u001b[38;5;21;01m.\u001b[39;00m\u001b[38;5;21;01mquery\u001b[39;00m\n\u001b[1;32m     14\u001b[0m \u001b[38;5;28;01mimport\u001b[39;00m \u001b[38;5;21;01mdns\u001b[39;00m\u001b[38;5;21;01m.\u001b[39;00m\u001b[38;5;21;01mrdtypes\u001b[39;00m\u001b[38;5;21;01m.\u001b[39;00m\u001b[38;5;21;01msvcbbase\u001b[39;00m\n",
      "File \u001b[0;32m~/anaconda3/lib/python3.11/site-packages/dns/nameserver.py:5\u001b[0m\n\u001b[1;32m      2\u001b[0m \u001b[38;5;28;01mfrom\u001b[39;00m \u001b[38;5;21;01murllib\u001b[39;00m\u001b[38;5;21;01m.\u001b[39;00m\u001b[38;5;21;01mparse\u001b[39;00m \u001b[38;5;28;01mimport\u001b[39;00m urlparse\n\u001b[1;32m      4\u001b[0m \u001b[38;5;28;01mimport\u001b[39;00m \u001b[38;5;21;01mdns\u001b[39;00m\u001b[38;5;21;01m.\u001b[39;00m\u001b[38;5;21;01masyncbackend\u001b[39;00m\n\u001b[0;32m----> 5\u001b[0m \u001b[38;5;28;01mimport\u001b[39;00m \u001b[38;5;21;01mdns\u001b[39;00m\u001b[38;5;21;01m.\u001b[39;00m\u001b[38;5;21;01masyncquery\u001b[39;00m\n\u001b[1;32m      6\u001b[0m \u001b[38;5;28;01mimport\u001b[39;00m \u001b[38;5;21;01mdns\u001b[39;00m\u001b[38;5;21;01m.\u001b[39;00m\u001b[38;5;21;01minet\u001b[39;00m\n\u001b[1;32m      7\u001b[0m \u001b[38;5;28;01mimport\u001b[39;00m \u001b[38;5;21;01mdns\u001b[39;00m\u001b[38;5;21;01m.\u001b[39;00m\u001b[38;5;21;01mmessage\u001b[39;00m\n",
      "File \u001b[0;32m~/anaconda3/lib/python3.11/site-packages/dns/asyncquery.py:38\u001b[0m\n\u001b[1;32m     36\u001b[0m \u001b[38;5;28;01mimport\u001b[39;00m \u001b[38;5;21;01mdns\u001b[39;00m\u001b[38;5;21;01m.\u001b[39;00m\u001b[38;5;21;01mtransaction\u001b[39;00m\n\u001b[1;32m     37\u001b[0m \u001b[38;5;28;01mfrom\u001b[39;00m \u001b[38;5;21;01mdns\u001b[39;00m\u001b[38;5;21;01m.\u001b[39;00m\u001b[38;5;21;01m_asyncbackend\u001b[39;00m \u001b[38;5;28;01mimport\u001b[39;00m NullContext\n\u001b[0;32m---> 38\u001b[0m \u001b[38;5;28;01mfrom\u001b[39;00m \u001b[38;5;21;01mdns\u001b[39;00m\u001b[38;5;21;01m.\u001b[39;00m\u001b[38;5;21;01mquery\u001b[39;00m \u001b[38;5;28;01mimport\u001b[39;00m (\n\u001b[1;32m     39\u001b[0m     BadResponse,\n\u001b[1;32m     40\u001b[0m     NoDOH,\n\u001b[1;32m     41\u001b[0m     NoDOQ,\n\u001b[1;32m     42\u001b[0m     UDPMode,\n\u001b[1;32m     43\u001b[0m     _compute_times,\n\u001b[1;32m     44\u001b[0m     _have_http2,\n\u001b[1;32m     45\u001b[0m     _matches_destination,\n\u001b[1;32m     46\u001b[0m     _remaining,\n\u001b[1;32m     47\u001b[0m     have_doh,\n\u001b[1;32m     48\u001b[0m     ssl,\n\u001b[1;32m     49\u001b[0m )\n\u001b[1;32m     51\u001b[0m \u001b[38;5;28;01mif\u001b[39;00m have_doh:\n\u001b[1;32m     52\u001b[0m     \u001b[38;5;28;01mimport\u001b[39;00m \u001b[38;5;21;01mhttpx\u001b[39;00m\n",
      "File \u001b[0;32m~/anaconda3/lib/python3.11/site-packages/dns/query.py:67\u001b[0m\n\u001b[1;32m     64\u001b[0m \u001b[38;5;28;01mimport\u001b[39;00m \u001b[38;5;21;01mhttpcore\u001b[39;00m\u001b[38;5;21;01m.\u001b[39;00m\u001b[38;5;21;01m_backends\u001b[39;00m\u001b[38;5;21;01m.\u001b[39;00m\u001b[38;5;21;01msync\u001b[39;00m\n\u001b[1;32m     65\u001b[0m \u001b[38;5;28;01mimport\u001b[39;00m \u001b[38;5;21;01mhttpx\u001b[39;00m\n\u001b[0;32m---> 67\u001b[0m _CoreNetworkBackend \u001b[38;5;241m=\u001b[39m httpcore\u001b[38;5;241m.\u001b[39mNetworkBackend\n\u001b[1;32m     68\u001b[0m _CoreSyncStream \u001b[38;5;241m=\u001b[39m httpcore\u001b[38;5;241m.\u001b[39m_backends\u001b[38;5;241m.\u001b[39msync\u001b[38;5;241m.\u001b[39mSyncStream\n\u001b[1;32m     70\u001b[0m _have_httpx \u001b[38;5;241m=\u001b[39m \u001b[38;5;28;01mTrue\u001b[39;00m\n",
      "\u001b[0;31mAttributeError\u001b[0m: module 'httpcore' has no attribute 'NetworkBackend'"
     ]
    }
   ],
   "source": [
    "from pymongo import MongoClient\n",
    "\n",
    "# Create a MongoClient object and specify the connection URL\n",
    "client = MongoClient(\"mongodb://localhost:27017/\")\n",
    "\n",
    "# Access the database\n",
    "db = client[\"restaurants.json\"]\n",
    "\n",
    "# Access the collection\n",
    "collection = db[\"restaurants\"]\n"
   ]
  },
  {
   "cell_type": "code",
   "execution_count": null,
   "metadata": {},
   "outputs": [],
   "source": []
  }
 ],
 "metadata": {
  "kernelspec": {
   "display_name": "Python 3",
   "language": "python",
   "name": "python3"
  },
  "language_info": {
   "codemirror_mode": {
    "name": "ipython",
    "version": 3
   },
   "file_extension": ".py",
   "mimetype": "text/x-python",
   "name": "python",
   "nbconvert_exporter": "python",
   "pygments_lexer": "ipython3",
   "version": "3.11.5"
  }
 },
 "nbformat": 4,
 "nbformat_minor": 2
}
